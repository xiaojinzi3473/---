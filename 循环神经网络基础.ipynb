{
 "cells": [
  {
   "cell_type": "markdown",
   "metadata": {},
   "source": [
    "# 循环神经网络\n",
    "本节介绍循环神经网络，下图展示了如何基于循环神经网络实现语言模型。我们的目的是基于当前的输入与过去的输入序列，预测序列的下一个字符。循环神经网络引入一个隐藏变量$H$，用$H_{t}$表示$H$在时间步$t$的值。$H_{t}$的计算基于$X_{t}$和$H_{t-1}$，可以认为$H_{t}$记录了到当前字符为止的序列信息，利用$H_{t}$对序列的下一个字符进行预测。\n",
    "![avatar][base64str]\n",
    "[base64str]:data:image/png;base64,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"
   ]
  },
  {
   "cell_type": "markdown",
   "metadata": {},
   "source": [
    "## 循环神经网络的构造\n",
    "\n",
    "我们先看循环神经网络的具体构造。假设$\\boldsymbol{X}_t \\in \\mathbb{R}^{n \\times d}$是时间步$t$的小批量输入，$\\boldsymbol{H}_t  \\in \\mathbb{R}^{n \\times h}$是该时间步的隐藏变量，则：\n",
    "\n",
    "\n",
    "$$\n",
    "\\boldsymbol{H}_t = \\phi(\\boldsymbol{X}_t \\boldsymbol{W}_{xh} + \\boldsymbol{H}_{t-1} \\boldsymbol{W}_{hh}  + \\boldsymbol{b}_h).\n",
    "$$\n",
    "\n",
    "\n",
    "其中，$\\boldsymbol{W}_{xh} \\in \\mathbb{R}^{d \\times h}$，$\\boldsymbol{W}_{hh} \\in \\mathbb{R}^{h \\times h}$，$\\boldsymbol{b}_{h} \\in \\mathbb{R}^{1 \\times h}$，$\\phi$函数是非线性激活函数。由于引入了$\\boldsymbol{H}_{t-1} \\boldsymbol{W}_{hh}$，$H_{t}$能够捕捉截至当前时间步的序列的历史信息，就像是神经网络当前时间步的状态或记忆一样。由于$H_{t}$的计算基于$H_{t-1}$，上式的计算是循环的，使用循环计算的网络即循环神经网络（recurrent neural network）。\n",
    "\n",
    "在时间步$t$，输出层的输出为：\n",
    "\n",
    "\n",
    "$$\n",
    "\\boldsymbol{O}_t = \\boldsymbol{H}_t \\boldsymbol{W}_{hq} + \\boldsymbol{b}_q.\n",
    "$$\n",
    "\n",
    "\n",
    "其中$\\boldsymbol{W}_{hq} \\in \\mathbb{R}^{h \\times q}$，$\\boldsymbol{b}_q \\in \\mathbb{R}^{1 \\times q}$。\n",
    "\n",
    "\n",
    "## 从零开始实现循环神经网络\n",
    "\n",
    "我们先尝试从零开始实现一个基于字符级循环神经网络的语言模型，这里我们使用周杰伦的歌词作为语料，首先我们读入数据："
   ]
  },
  {
   "cell_type": "code",
   "execution_count": 17,
   "metadata": {},
   "outputs": [],
   "source": [
    "import torch\n",
    "import torch.nn as nn\n",
    "import time\n",
    "import math\n",
    "import sys\n"
   ]
  },
  {
   "cell_type": "markdown",
   "metadata": {},
   "source": [
    "## 参考资料链接\n",
    "\n",
    "RNN详解\n",
    "https://blog.csdn.net/zhaojc1995/article/details/80572098"
   ]
  },
  {
   "cell_type": "markdown",
   "metadata": {},
   "source": [
    "## 习题\n",
    "\n",
    "选择题\n",
    "\n",
    "### 1.关于循环神经网络描述错误的是：\n",
    "\n",
    "A.在同一个批量中，处理不同语句用到的模型参数$W_{h}$和$b_{h}$是一样的\n",
    "\n",
    "B.循环神经网络处理一个长度为$T$的输入序列，需要维护$T$组模型参数\n",
    "\n",
    "C. 各个时间步的隐藏状态$H_{t}$不能并行计算\n",
    "\n",
    "D. 可以认为第$t$个时间步的隐藏状态$H_t$包含截止到第$t$个时间步的序列的历史信息\n",
    "\n",
    "答案： B\n",
    "\n",
    "答案解释\n",
    "选项1：批量训练的过程中，参数是以批为单位更新的，每个批次内模型的参数都是一样的。\n",
    "\n",
    "选项2：循环神经网络通过不断循环使用同样一组参数来应对不同长度的序列，故网络的参数数量与输入序列长度无关。\n",
    "\n",
    "选项3：隐状态$H_t$的值依赖于$H_1, ..., H_{t-1}$，故不能并行计算。\n",
    "\n",
    "选项4：可以这么认为，详见视频中2分40秒到3分10秒。\n",
    "\n",
    "\n",
    "### 2.关于梯度裁剪描述错误的是：\n",
    "\n",
    "A.梯度裁剪之后的梯度小于或者等于原梯度\n",
    "\n",
    "B.梯度裁剪是应对梯度爆炸的一种方法\n",
    "\n",
    "C.裁剪之后的梯度L2范数小于阈值θ\\thetaθ\n",
    "\n",
    "D.梯度裁剪也是应对梯度消失的一种方法\n",
    "\n",
    "答案：D\n",
    "\n",
    "答案解释\n",
    "\n",
    "选项1：正确，参考梯度裁剪的定义。\n",
    "\n",
    "选项2：正确，参考视频13分40秒左右。\n",
    "\n",
    "选项3：正确，参考视频14分25秒左右。\n",
    "\n",
    "选项4：错误，只能应对梯度爆炸。\n",
    "\n",
    "\n",
    "### 3.关于困惑度的描述错误的是：\n",
    "\n",
    "A.困惑度用来评价语言模型的好坏\n",
    "\n",
    "B.困惑度越低语言模型越好\n",
    "\n",
    "C.有效模型的困惑度应该大于类别个数\n",
    "\n",
    "答案：C\n",
    "\n",
    "答案解释\n",
    "\n",
    "选项1：正确，参考视频19分27秒左右。\n",
    "\n",
    "选项2：正确，参考视频19分58秒左右。\n",
    "\n",
    "选项3：错误，一个随机分类模型（基线模型）的困惑度等于分类问题的类别个数，有效模型的困惑度应小于类别个数。\n",
    "\n",
    "### 4.关于采样方法和隐藏状态初始化的描述错误的是：\n",
    "\n",
    "A.采用的采样方法不同会导致隐藏状态初始化方式发生变化\n",
    "\n",
    "B.采用相邻采样仅在每个训练周期开始的时候初始化隐藏状态是因为相邻的两个批量在原始数据上是连续的\n",
    "\n",
    "C.采用随机采样需要在每个小批量更新前初始化隐藏状态是因为每个样本包含完整的时间序列信息\n",
    "\n",
    "答案：C\n",
    "\n",
    "答案解释\n",
    "\n",
    "选项1：正确，参考视频20分20秒到21分05秒。\n",
    "\n",
    "选项2：正确，参考视频20分30秒左右\n",
    "\n",
    "选项3：错误，随机采样中每个样本只包含局部的时间序列信息，因为样本不完整所以每个批量需要重新初始化隐藏状态。参考视频22分0秒左右。\n"
   ]
  },
  {
   "cell_type": "code",
   "execution_count": null,
   "metadata": {
    "collapsed": true
   },
   "outputs": [],
   "source": []
  }
 ],
 "metadata": {
  "kernelspec": {
   "display_name": "Python 3",
   "language": "python",
   "name": "python3"
  },
  "language_info": {
   "codemirror_mode": {
    "name": "ipython",
    "version": 3
   },
   "file_extension": ".py",
   "mimetype": "text/x-python",
   "name": "python",
   "nbconvert_exporter": "python",
   "pygments_lexer": "ipython3",
   "version": "3.6.10"
  }
 },
 "nbformat": 4,
 "nbformat_minor": 2
}
